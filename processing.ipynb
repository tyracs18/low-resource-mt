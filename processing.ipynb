{
 "cells": [
  {
   "cell_type": "code",
   "execution_count": 11,
   "metadata": {},
   "outputs": [],
   "source": [
    "import os\n",
    "import json"
   ]
  },
  {
   "cell_type": "code",
   "execution_count": 15,
   "metadata": {},
   "outputs": [],
   "source": [
    "# folder paths\n",
    "BASE_DIR = r\"C:\\Users\\silap\\Desktop\\spring24\\cs7650\\final_project\"\n",
    "FLORES_DEV = os.path.join(BASE_DIR, \"flores\", \"flores200_dataset\", \"dev\")\n",
    "FLORES_DEVTEST = os.path.join(BASE_DIR, \"flores\", \"flores200_dataset\", \"devtest\")\n",
    "WMT21_PATH = os.path.join(BASE_DIR, \"wmt21\", \"wikititles-v3.ru-en.tsv\")\n",
    "OUTPUT_DIR = os.path.join(BASE_DIR, \"processed\")\n",
    "os.makedirs(OUTPUT_DIR, exist_ok=True)"
   ]
  },
  {
   "cell_type": "code",
   "execution_count": 16,
   "metadata": {},
   "outputs": [],
   "source": [
    "# === LANGUAGE CODES ===\n",
    "LANG_MAP = {\n",
    "    \"ne\": \"npi_Deva\",\n",
    "    \"si\": \"sin_Sinh\",\n",
    "    \"en\": \"eng_Latn\",\n",
    "    \"ru\": \"rus_Cyrl\"\n",
    "}\n",
    "\n",
    "FLORES_PAIRS = [\n",
    "    (\"en\", \"ne\"),\n",
    "    (\"en\", \"si\"),\n",
    "    (\"en\", \"ru\"),\n",
    "    (\"ne\", \"si\")\n",
    "]"
   ]
  },
  {
   "cell_type": "code",
   "execution_count": 17,
   "metadata": {},
   "outputs": [],
   "source": [
    "def convert_to_jsonl(src_path, tgt_path, output_path):\n",
    "    with open(src_path, \"r\", encoding=\"utf-8\") as src_f, \\\n",
    "         open(tgt_path, \"r\", encoding=\"utf-8\") as tgt_f, \\\n",
    "         open(output_path, \"w\", encoding=\"utf-8\") as out_f:\n",
    "        for src_line, tgt_line in zip(src_f, tgt_f):\n",
    "            src_text = src_line.strip()\n",
    "            tgt_text = tgt_line.strip()\n",
    "            if src_text and tgt_text:\n",
    "                out_f.write(json.dumps({\"src\": src_text, \"tgt\": tgt_text}, ensure_ascii=False) + \"\\n\")\n",
    "\n",
    "def convert_tsv_to_jsonl(tsv_path, output_path):\n",
    "    with open(tsv_path, \"r\", encoding=\"utf-8\") as in_f, \\\n",
    "         open(output_path, \"w\", encoding=\"utf-8\") as out_f:\n",
    "        for line in in_f:\n",
    "            parts = line.strip().split(\"\\t\")\n",
    "            if len(parts) != 2:\n",
    "                continue\n",
    "            ru, en = parts\n",
    "            if ru and en:\n",
    "                out_f.write(json.dumps({\"src\": en, \"tgt\": ru}, ensure_ascii=False) + \"\\n\")  # en → ru"
   ]
  },
  {
   "cell_type": "code",
   "execution_count": 18,
   "metadata": {},
   "outputs": [],
   "source": [
    "def process_flores():\n",
    "    for src_lang, tgt_lang in FLORES_PAIRS:\n",
    "        src_code = LANG_MAP[src_lang]\n",
    "        tgt_code = LANG_MAP[tgt_lang]\n",
    "\n",
    "        for direction in [(src_code, tgt_code), (tgt_code, src_code)]:\n",
    "            src, tgt = direction\n",
    "\n",
    "            for split in [\"dev\", \"devtest\"]:\n",
    "                split_ext = \".dev\" if split == \"dev\" else \".devtest\"\n",
    "                src_path = os.path.join(FLORES_DEV if split == \"dev\" else FLORES_DEVTEST, f\"{src}{split_ext}\")\n",
    "                tgt_path = os.path.join(FLORES_DEV if split == \"dev\" else FLORES_DEVTEST, f\"{tgt}{split_ext}\")\n",
    "\n",
    "                short_src = [k for k, v in LANG_MAP.items() if v == src][0]\n",
    "                short_tgt = [k for k, v in LANG_MAP.items() if v == tgt][0]\n",
    "                out_name = f\"{short_src}_{short_tgt}_{split}.jsonl\"\n",
    "                output_path = os.path.join(OUTPUT_DIR, out_name)\n",
    "\n",
    "                if os.path.exists(src_path) and os.path.exists(tgt_path):\n",
    "                    print(f\"FLoRes: {src} ↔ {tgt} → {out_name}\")\n",
    "                    convert_to_jsonl(src_path, tgt_path, output_path)\n",
    "                else:\n",
    "                    print(f\"Missing FLoRes files: {src_path} or {tgt_path}\")"
   ]
  },
  {
   "cell_type": "code",
   "execution_count": 19,
   "metadata": {},
   "outputs": [],
   "source": [
    "def process_wmt21():\n",
    "    output_path = os.path.join(OUTPUT_DIR, \"en_ru_wmt21.jsonl\")\n",
    "    if os.path.exists(WMT21_PATH):\n",
    "        print(f\"🔄 WMT21: Converting {WMT21_PATH} → en_ru_wmt21.jsonl\")\n",
    "        convert_tsv_to_jsonl(WMT21_PATH, output_path)\n",
    "    else:\n",
    "        print(f\"⚠️ Missing WMT21 file: {WMT21_PATH}\")\n"
   ]
  },
  {
   "cell_type": "code",
   "execution_count": 20,
   "metadata": {},
   "outputs": [
    {
     "name": "stdout",
     "output_type": "stream",
     "text": [
      "Processing FLoRes-200...\n",
      "FLoRes: eng_Latn ↔ npi_Deva → en_ne_dev.jsonl\n",
      "FLoRes: eng_Latn ↔ npi_Deva → en_ne_devtest.jsonl\n",
      "FLoRes: npi_Deva ↔ eng_Latn → ne_en_dev.jsonl\n",
      "FLoRes: npi_Deva ↔ eng_Latn → ne_en_devtest.jsonl\n",
      "FLoRes: eng_Latn ↔ sin_Sinh → en_si_dev.jsonl\n",
      "FLoRes: eng_Latn ↔ sin_Sinh → en_si_devtest.jsonl\n",
      "FLoRes: sin_Sinh ↔ eng_Latn → si_en_dev.jsonl\n",
      "FLoRes: sin_Sinh ↔ eng_Latn → si_en_devtest.jsonl\n",
      "FLoRes: eng_Latn ↔ rus_Cyrl → en_ru_dev.jsonl\n",
      "FLoRes: eng_Latn ↔ rus_Cyrl → en_ru_devtest.jsonl\n",
      "FLoRes: rus_Cyrl ↔ eng_Latn → ru_en_dev.jsonl\n",
      "FLoRes: rus_Cyrl ↔ eng_Latn → ru_en_devtest.jsonl\n",
      "FLoRes: npi_Deva ↔ sin_Sinh → ne_si_dev.jsonl\n",
      "FLoRes: npi_Deva ↔ sin_Sinh → ne_si_devtest.jsonl\n",
      "FLoRes: sin_Sinh ↔ npi_Deva → si_ne_dev.jsonl\n",
      "FLoRes: sin_Sinh ↔ npi_Deva → si_ne_devtest.jsonl\n",
      "\n",
      "Processing WMT21 News Commentary...\n",
      "🔄 WMT21: Converting C:\\Users\\silap\\Desktop\\spring24\\cs7650\\final_project\\wmt21\\wikititles-v3.ru-en.tsv → en_ru_wmt21.jsonl\n",
      "\n",
      "✅ All datasets processed into: C:\\Users\\silap\\Desktop\\spring24\\cs7650\\final_project\\processed\n"
     ]
    }
   ],
   "source": [
    "def main():\n",
    "    print(\"Processing FLoRes-200...\")\n",
    "    process_flores()\n",
    "    print(\"\\nProcessing WMT21 News Commentary...\")\n",
    "    process_wmt21()\n",
    "    print(\"\\n✅ All datasets processed into:\", OUTPUT_DIR)\n",
    "\n",
    "if __name__ == \"__main__\":\n",
    "    main()"
   ]
  }
 ],
 "metadata": {
  "kernelspec": {
   "display_name": "base",
   "language": "python",
   "name": "python3"
  },
  "language_info": {
   "codemirror_mode": {
    "name": "ipython",
    "version": 3
   },
   "file_extension": ".py",
   "mimetype": "text/x-python",
   "name": "python",
   "nbconvert_exporter": "python",
   "pygments_lexer": "ipython3",
   "version": "3.12.4"
  }
 },
 "nbformat": 4,
 "nbformat_minor": 2
}
